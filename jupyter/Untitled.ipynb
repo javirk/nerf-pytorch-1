{
 "cells": [
  {
   "cell_type": "code",
   "execution_count": 2,
   "id": "bbd6089c",
   "metadata": {},
   "outputs": [],
   "source": [
    "import sys  \n",
    "sys.path.insert(0, '../')"
   ]
  },
  {
   "cell_type": "code",
   "execution_count": 29,
   "id": "ca77549b",
   "metadata": {},
   "outputs": [],
   "source": [
    "import torch\n",
    "import torch.nn as nn\n",
    "import libs.other_helpers as u\n",
    "from einops import rearrange"
   ]
  },
  {
   "cell_type": "code",
   "execution_count": 68,
   "id": "c761e1af",
   "metadata": {},
   "outputs": [
    {
     "name": "stdout",
     "output_type": "stream",
     "text": [
      "Batch_size: 128\n"
     ]
    }
   ],
   "source": [
    "N_samples = 16\n",
    "near = 2.\n",
    "far = 6.\n",
    "N_rays = 8\n",
    "EPOCHS = 200\n",
    "LR = 0.001\n",
    "print(f'Batch_size: {N_rays * N_samples}')"
   ]
  },
  {
   "cell_type": "code",
   "execution_count": 56,
   "id": "6ac4e293",
   "metadata": {},
   "outputs": [],
   "source": [
    "device = torch.device('cuda')"
   ]
  },
  {
   "cell_type": "code",
   "execution_count": 57,
   "id": "981f6c47",
   "metadata": {},
   "outputs": [],
   "source": [
    "class CurveModel(nn.Module):\n",
    "    def __init__(self):\n",
    "        super().__init__()\n",
    "        self.fc1 = nn.Linear(7, 128)\n",
    "        self.relu = nn.ReLU()\n",
    "        self.fc2 = nn.Linear(128, 128)\n",
    "        self.fc3 = nn.Linear(128, 3)\n",
    "\n",
    "    def forward(self, x):\n",
    "        x = self.relu(self.fc1(x))\n",
    "        x = self.relu(self.fc2(x))\n",
    "        x = self.fc3(x)\n",
    "        return x"
   ]
  },
  {
   "cell_type": "code",
   "execution_count": 58,
   "id": "c90c9544",
   "metadata": {},
   "outputs": [],
   "source": [
    "model = CurveModel()\n",
    "model.train()\n",
    "model.to(device)"
   ]
  },
  {
   "cell_type": "code",
   "execution_count": 69,
   "id": "285a51a4",
   "metadata": {},
   "outputs": [],
   "source": [
    "opt = torch.optim.SGD(model.parameters(), lr=LR)\n",
    "criterion = nn.MSELoss()"
   ]
  },
  {
   "cell_type": "code",
   "execution_count": 70,
   "id": "6396bb98",
   "metadata": {},
   "outputs": [
    {
     "name": "stdout",
     "output_type": "stream",
     "text": [
      "Epoch: 0. Loss: 0.14436160027980804\n",
      "Epoch: 10. Loss: 0.21754953265190125\n",
      "Epoch: 20. Loss: 0.21686062216758728\n",
      "Epoch: 30. Loss: 0.09655234217643738\n",
      "Epoch: 40. Loss: 0.18292856216430664\n",
      "Epoch: 50. Loss: 0.17143933475017548\n",
      "Epoch: 60. Loss: 0.18324628472328186\n",
      "Epoch: 70. Loss: 0.22196708619594574\n",
      "Epoch: 80. Loss: 0.18775534629821777\n",
      "Epoch: 90. Loss: 0.1800617277622223\n",
      "Epoch: 100. Loss: 0.209504172205925\n",
      "Epoch: 110. Loss: 0.17791514098644257\n",
      "Epoch: 120. Loss: 0.17417508363723755\n",
      "Epoch: 130. Loss: 0.18488049507141113\n",
      "Epoch: 140. Loss: 0.14253106713294983\n",
      "Epoch: 150. Loss: 0.1533195972442627\n",
      "Epoch: 160. Loss: 0.20403504371643066\n",
      "Epoch: 170. Loss: 0.14890572428703308\n",
      "Epoch: 180. Loss: 0.19020722806453705\n",
      "Epoch: 190. Loss: 0.14024381339550018\n"
     ]
    }
   ],
   "source": [
    "for i in range(EPOCHS):\n",
    "    rays_o = u.random_on_unit_sphere((N_rays, 3)) * 4\n",
    "    rays_d = -1 * torch.rand((N_rays, 3)) + 1 # This is distributed -1 to 1\n",
    "    rays_d = u.unit_vector(rays_d)\n",
    "\n",
    "    t_vals = torch.linspace(0., 1., steps=N_samples)\n",
    "    z_vals = near * (1. - t_vals) + far * t_vals\n",
    "    z_vals = z_vals.expand([N_rays, N_samples])\n",
    "    target = rays_o[..., None, :] + rays_d[..., None, :] * z_vals[..., :, None]  # [N_rays, N_samples, 3]\n",
    "    target = target.to(device)\n",
    "    \n",
    "    input_batch = torch.cat((rays_o, rays_d), dim=-1).unsqueeze(1)\n",
    "    input_batch = input_batch.expand(N_rays, N_samples, 6)\n",
    "    input_batch = torch.cat((input_batch, z_vals.unsqueeze(-1)), dim=-1)\n",
    "    input_batch = input_batch.to(device)\n",
    "    \n",
    "    output = model(input_batch)\n",
    "    \n",
    "    loss = criterion(output, target)\n",
    "    \n",
    "    opt.zero_grad()\n",
    "    loss.backward()\n",
    "    opt.step()\n",
    "    if i % 10 == 0:\n",
    "        print(f'Epoch: {i}. Loss: {loss.item()}')\n"
   ]
  },
  {
   "cell_type": "code",
   "execution_count": 71,
   "id": "90950ece",
   "metadata": {},
   "outputs": [
    {
     "data": {
      "text/plain": [
       "tensor([3.5599, 2.3184, 0.9406], device='cuda:0', grad_fn=<SelectBackward>)"
      ]
     },
     "execution_count": 71,
     "metadata": {},
     "output_type": "execute_result"
    }
   ],
   "source": [
    "output[0,0]"
   ]
  },
  {
   "cell_type": "code",
   "execution_count": 72,
   "id": "0b949a2b",
   "metadata": {},
   "outputs": [
    {
     "data": {
      "text/plain": [
       "tensor([3.6514, 2.3680, 0.7674], device='cuda:0')"
      ]
     },
     "execution_count": 72,
     "metadata": {},
     "output_type": "execute_result"
    }
   ],
   "source": [
    "target[0,0]"
   ]
  },
  {
   "cell_type": "code",
   "execution_count": 12,
   "id": "1a989a20",
   "metadata": {},
   "outputs": [
    {
     "data": {
      "text/plain": [
       "(torch.Size([2, 3]), torch.Size([2, 3]), torch.Size([2, 4]))"
      ]
     },
     "execution_count": 12,
     "metadata": {},
     "output_type": "execute_result"
    }
   ],
   "source": [
    "rays_o.shape, rays_d.shape, z_vals.shape"
   ]
  },
  {
   "cell_type": "code",
   "execution_count": 30,
   "id": "3acc9045",
   "metadata": {},
   "outputs": [
    {
     "data": {
      "text/plain": [
       "torch.Size([2, 4, 7])"
      ]
     },
     "execution_count": 30,
     "metadata": {},
     "output_type": "execute_result"
    }
   ],
   "source": [
    "input_batch.shape"
   ]
  },
  {
   "cell_type": "code",
   "execution_count": 33,
   "id": "b5b69ce9",
   "metadata": {},
   "outputs": [
    {
     "data": {
      "text/plain": [
       "torch.Size([8, 7])"
      ]
     },
     "execution_count": 33,
     "metadata": {},
     "output_type": "execute_result"
    }
   ],
   "source": [
    "rearrange(input_batch, 'r s d -> (r s) d').shape"
   ]
  },
  {
   "cell_type": "code",
   "execution_count": 40,
   "id": "0431549e",
   "metadata": {},
   "outputs": [
    {
     "data": {
      "text/plain": [
       "torch.Size([2, 4, 3])"
      ]
     },
     "execution_count": 40,
     "metadata": {},
     "output_type": "execute_result"
    }
   ],
   "source": [
    "model(input_batch).shape"
   ]
  },
  {
   "cell_type": "code",
   "execution_count": null,
   "id": "210bf944",
   "metadata": {},
   "outputs": [],
   "source": []
  }
 ],
 "metadata": {
  "kernelspec": {
   "display_name": "Python 3",
   "language": "python",
   "name": "python3"
  },
  "language_info": {
   "codemirror_mode": {
    "name": "ipython",
    "version": 3
   },
   "file_extension": ".py",
   "mimetype": "text/x-python",
   "name": "python",
   "nbconvert_exporter": "python",
   "pygments_lexer": "ipython3",
   "version": "3.8.8"
  }
 },
 "nbformat": 4,
 "nbformat_minor": 5
}
