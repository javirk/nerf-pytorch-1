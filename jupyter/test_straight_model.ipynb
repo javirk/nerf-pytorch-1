{
 "cells": [
  {
   "cell_type": "code",
   "execution_count": 2,
   "id": "340d564a",
   "metadata": {},
   "outputs": [],
   "source": [
    "import torch\n",
    "import torch.nn as nn"
   ]
  },
  {
   "cell_type": "code",
   "execution_count": 3,
   "id": "1388406b",
   "metadata": {},
   "outputs": [],
   "source": [
    "class CurveModel(nn.Module):\n",
    "    def __init__(self):\n",
    "        super().__init__()\n",
    "        self.fc1 = nn.Linear(7, 128)\n",
    "        self.relu = nn.LeakyReLU()\n",
    "        self.fc2 = nn.Linear(128, 128)\n",
    "        self.fc3 = nn.Linear(128, 3)\n",
    "\n",
    "    def forward(self, x):\n",
    "        x = self.relu(self.fc1(x))\n",
    "        x = self.relu(self.fc2(x))\n",
    "        x = self.fc3(x)\n",
    "        return x"
   ]
  },
  {
   "cell_type": "code",
   "execution_count": 4,
   "id": "16325292",
   "metadata": {},
   "outputs": [],
   "source": [
    "device = torch.device('cuda')"
   ]
  },
  {
   "cell_type": "code",
   "execution_count": 5,
   "id": "7109683e",
   "metadata": {},
   "outputs": [],
   "source": [
    "model = CurveModel()"
   ]
  },
  {
   "cell_type": "code",
   "execution_count": 6,
   "id": "b1ad93f5",
   "metadata": {},
   "outputs": [
    {
     "data": {
      "text/plain": [
       "<All keys matched successfully>"
      ]
     },
     "execution_count": 6,
     "metadata": {},
     "output_type": "execute_result"
    }
   ],
   "source": [
    "model.load_state_dict(torch.load('../models/straight_model.pth'))"
   ]
  },
  {
   "cell_type": "code",
   "execution_count": 9,
   "id": "0870009e",
   "metadata": {},
   "outputs": [],
   "source": [
    "a = torch.tensor([[-3.5612,  0.2578,  0., 0.0969, 0.6768, 0., 0.]])"
   ]
  },
  {
   "cell_type": "code",
   "execution_count": 10,
   "id": "9ae17225",
   "metadata": {},
   "outputs": [
    {
     "data": {
      "text/plain": [
       "tensor([[-3.2817,  0.8750, -0.1744]], grad_fn=<AddmmBackward>)"
      ]
     },
     "execution_count": 10,
     "metadata": {},
     "output_type": "execute_result"
    }
   ],
   "source": [
    "model(a)"
   ]
  },
  {
   "cell_type": "code",
   "execution_count": 9,
   "id": "1dc0e7a5",
   "metadata": {},
   "outputs": [
    {
     "data": {
      "text/plain": [
       "-1.72379565"
      ]
     },
     "execution_count": 9,
     "metadata": {},
     "output_type": "execute_result"
    }
   ],
   "source": [
    "-3.3308+0.8029*2.0015"
   ]
  },
  {
   "cell_type": "markdown",
   "id": "e0839cbf",
   "metadata": {},
   "source": [
    "tensor([-1.7239, -0.4986,  0.9527])"
   ]
  },
  {
   "cell_type": "code",
   "execution_count": 12,
   "id": "f60c43fd",
   "metadata": {},
   "outputs": [
    {
     "data": {
      "text/plain": [
       "tensor([[-3.3308, -0.9779,  2.0492,  0.8029,  0.2395, -0.5479,  2.0015]])"
      ]
     },
     "execution_count": 12,
     "metadata": {},
     "output_type": "execute_result"
    }
   ],
   "source": [
    "a.data"
   ]
  },
  {
   "cell_type": "code",
   "execution_count": 13,
   "id": "81b68583",
   "metadata": {},
   "outputs": [
    {
     "data": {
      "text/plain": [
       "1.00220307"
      ]
     },
     "execution_count": 13,
     "metadata": {},
     "output_type": "execute_result"
    }
   ],
   "source": [
    "0.8029**2 + 0.2395**2 + 0.5479**2"
   ]
  },
  {
   "cell_type": "code",
   "execution_count": null,
   "id": "adc62feb",
   "metadata": {},
   "outputs": [],
   "source": []
  }
 ],
 "metadata": {
  "kernelspec": {
   "display_name": "Python 3",
   "language": "python",
   "name": "python3"
  },
  "language_info": {
   "codemirror_mode": {
    "name": "ipython",
    "version": 3
   },
   "file_extension": ".py",
   "mimetype": "text/x-python",
   "name": "python",
   "nbconvert_exporter": "python",
   "pygments_lexer": "ipython3",
   "version": "3.8.8"
  }
 },
 "nbformat": 4,
 "nbformat_minor": 5
}
