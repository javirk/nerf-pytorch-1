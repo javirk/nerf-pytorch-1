{
 "cells": [
  {
   "cell_type": "code",
   "execution_count": 1,
   "id": "S-K6BjmeXs0D",
   "metadata": {
    "colab": {
     "base_uri": "https://localhost:8080/"
    },
    "executionInfo": {
     "elapsed": 3791,
     "status": "ok",
     "timestamp": 1621334647317,
     "user": {
      "displayName": "Javier Gamazo Tejero",
      "photoUrl": "",
      "userId": "04168543225743776047"
     },
     "user_tz": -120
    },
    "id": "S-K6BjmeXs0D",
    "outputId": "f93711df-91eb-40f5-edad-369f0843bb70"
   },
   "outputs": [
    {
     "name": "stdout",
     "output_type": "stream",
     "text": [
      "Requirement already satisfied: einops in /usr/local/lib/python3.7/dist-packages (0.3.0)\n"
     ]
    }
   ],
   "source": [
    "!pip install einops"
   ]
  },
  {
   "cell_type": "code",
   "execution_count": 9,
   "id": "_t-bACpkXXJS",
   "metadata": {
    "executionInfo": {
     "elapsed": 4413,
     "status": "ok",
     "timestamp": 1621334647949,
     "user": {
      "displayName": "Javier Gamazo Tejero",
      "photoUrl": "",
      "userId": "04168543225743776047"
     },
     "user_tz": -120
    },
    "id": "_t-bACpkXXJS"
   },
   "outputs": [],
   "source": [
    "import torch\n",
    "import torch.nn as nn\n",
    "from einops import rearrange\n",
    "import math"
   ]
  },
  {
   "cell_type": "code",
   "execution_count": 10,
   "id": "jk4IHgA8Xl9y",
   "metadata": {
    "executionInfo": {
     "elapsed": 4409,
     "status": "ok",
     "timestamp": 1621334647950,
     "user": {
      "displayName": "Javier Gamazo Tejero",
      "photoUrl": "",
      "userId": "04168543225743776047"
     },
     "user_tz": -120
    },
    "id": "jk4IHgA8Xl9y"
   },
   "outputs": [],
   "source": [
    "def unit_vector(a, dim=None):\n",
    "    '''\n",
    "    Returns the unit vector with the direction of a\n",
    "    :param dim:\n",
    "    :param a:\n",
    "    :return:\n",
    "    '''\n",
    "    return a / a.norm(dim=dim).unsqueeze(-1)\n",
    "\n",
    "def random_on_unit_sphere(size, device='cpu'):\n",
    "    # We use the method in https://stats.stackexchange.com/questions/7977/how-to-generate-uniformly-distributed-points-on-the-surface-of-the-3-d-unit-sphe\n",
    "    # to produce vectors on the surface of a unit sphere\n",
    "\n",
    "    x = torch.randn(size)\n",
    "    l = torch.sqrt(torch.sum(torch.pow(x, 2), dim=-1)).unsqueeze(1)\n",
    "    x = (x / l).to(device)\n",
    "\n",
    "    return x"
   ]
  },
  {
   "cell_type": "code",
   "execution_count": 11,
   "id": "8oKqlWcLXXJT",
   "metadata": {
    "colab": {
     "base_uri": "https://localhost:8080/"
    },
    "executionInfo": {
     "elapsed": 4404,
     "status": "ok",
     "timestamp": 1621334647950,
     "user": {
      "displayName": "Javier Gamazo Tejero",
      "photoUrl": "",
      "userId": "04168543225743776047"
     },
     "user_tz": -120
    },
    "id": "8oKqlWcLXXJT",
    "outputId": "9b04a08a-a610-4731-ec42-f1ab245e6812"
   },
   "outputs": [
    {
     "name": "stdout",
     "output_type": "stream",
     "text": [
      "Batch_size: 65536\n"
     ]
    }
   ],
   "source": [
    "N_samples = 64\n",
    "near = 2.\n",
    "far = 6.\n",
    "N_rays = 1024\n",
    "EPOCHS = 50000\n",
    "LR = 0.01\n",
    "print(f'Batch_size: {N_rays * N_samples}')"
   ]
  },
  {
   "cell_type": "code",
   "execution_count": 12,
   "id": "tioFHj7FXXJU",
   "metadata": {
    "executionInfo": {
     "elapsed": 4401,
     "status": "ok",
     "timestamp": 1621334647951,
     "user": {
      "displayName": "Javier Gamazo Tejero",
      "photoUrl": "",
      "userId": "04168543225743776047"
     },
     "user_tz": -120
    },
    "id": "tioFHj7FXXJU"
   },
   "outputs": [],
   "source": [
    "device = torch.device('cuda')"
   ]
  },
  {
   "cell_type": "code",
   "execution_count": 13,
   "id": "5493de75",
   "metadata": {},
   "outputs": [],
   "source": [
    "class PositionalEncoding(nn.Module):\n",
    "\n",
    "    def __init__(self, d_model, dropout=0.1, max_len=5000):\n",
    "        super(PositionalEncoding, self).__init__()\n",
    "        self.dropout = nn.Dropout(p=dropout)\n",
    "\n",
    "        pe = torch.zeros(max_len, d_model)\n",
    "        position = torch.arange(0, max_len, dtype=torch.float).unsqueeze(1)\n",
    "        div_term = torch.exp(torch.arange(0, d_model, 2).float() * (-math.log(10000.0) / d_model))\n",
    "        pe[:, 0::2] = torch.sin(position * div_term)\n",
    "        pe[:, 1::2] = torch.cos(position * div_term)\n",
    "        pe = pe.unsqueeze(0).transpose(0, 1)\n",
    "        self.register_buffer('pe', pe)\n",
    "\n",
    "    def forward(self, x):\n",
    "        x = x + self.pe[:x.size(0), :]\n",
    "        return self.dropout(x)"
   ]
  },
  {
   "cell_type": "code",
   "execution_count": 32,
   "id": "JaQvNfKSXXJU",
   "metadata": {
    "executionInfo": {
     "elapsed": 4398,
     "status": "ok",
     "timestamp": 1621334647952,
     "user": {
      "displayName": "Javier Gamazo Tejero",
      "photoUrl": "",
      "userId": "04168543225743776047"
     },
     "user_tz": -120
    },
    "id": "JaQvNfKSXXJU"
   },
   "outputs": [],
   "source": [
    "class CurveModel(nn.Module):\n",
    "    def __init__(self):\n",
    "        super().__init__()\n",
    "        self.pos_encoder = PositionalEncoding(20)\n",
    "        self.fc_1 = nn.Linear(6, 256)\n",
    "        self.fc_enc = nn.Linear(20, 256)\n",
    "        self.relu = nn.ReLU()\n",
    "        self.fc_final = nn.Linear(256, 3)\n",
    "        self.sigmoid = nn.Sigmoid()\n",
    "\n",
    "    def forward(self, x, p):\n",
    "        x = self.fc_1(x)\n",
    "        p = self.pos_encoder(p)\n",
    "        p = self.fc_enc(p)\n",
    "        x = self.relu(x + p)\n",
    "        x = self.fc_final(x)\n",
    "        \n",
    "        return x"
   ]
  },
  {
   "cell_type": "code",
   "execution_count": 33,
   "id": "6-bDEOYrXXJV",
   "metadata": {
    "colab": {
     "base_uri": "https://localhost:8080/"
    },
    "executionInfo": {
     "elapsed": 7349,
     "status": "ok",
     "timestamp": 1621334650907,
     "user": {
      "displayName": "Javier Gamazo Tejero",
      "photoUrl": "",
      "userId": "04168543225743776047"
     },
     "user_tz": -120
    },
    "id": "6-bDEOYrXXJV",
    "outputId": "90306e39-5d46-4480-d172-460ddd17b412"
   },
   "outputs": [
    {
     "data": {
      "text/plain": [
       "CurveModel(\n",
       "  (pos_encoder): PositionalEncoding(\n",
       "    (dropout): Dropout(p=0.1, inplace=False)\n",
       "  )\n",
       "  (fc_1): Linear(in_features=6, out_features=256, bias=True)\n",
       "  (fc_enc): Linear(in_features=20, out_features=256, bias=True)\n",
       "  (relu): ReLU()\n",
       "  (fc_final): Linear(in_features=256, out_features=3, bias=True)\n",
       "  (sigmoid): Sigmoid()\n",
       ")"
      ]
     },
     "execution_count": 33,
     "metadata": {},
     "output_type": "execute_result"
    }
   ],
   "source": [
    "model = CurveModel()\n",
    "model.train()\n",
    "model.to(device)"
   ]
  },
  {
   "cell_type": "code",
   "execution_count": 34,
   "id": "Gi1Yelh2XXJV",
   "metadata": {
    "executionInfo": {
     "elapsed": 7345,
     "status": "ok",
     "timestamp": 1621334650907,
     "user": {
      "displayName": "Javier Gamazo Tejero",
      "photoUrl": "",
      "userId": "04168543225743776047"
     },
     "user_tz": -120
    },
    "id": "Gi1Yelh2XXJV"
   },
   "outputs": [],
   "source": [
    "opt = torch.optim.SGD(model.parameters(), lr=LR)\n",
    "criterion = nn.MSELoss()\n",
    "lmbda = lambda epoch: 0.98\n",
    "scheduler = torch.optim.lr_scheduler.MultiplicativeLR(opt, lr_lambda=lmbda)"
   ]
  },
  {
   "cell_type": "code",
   "execution_count": 35,
   "id": "hpKDiS3tEfaW",
   "metadata": {
    "executionInfo": {
     "elapsed": 7343,
     "status": "ok",
     "timestamp": 1621334650908,
     "user": {
      "displayName": "Javier Gamazo Tejero",
      "photoUrl": "",
      "userId": "04168543225743776047"
     },
     "user_tz": -120
    },
    "id": "hpKDiS3tEfaW"
   },
   "outputs": [],
   "source": [
    "loss_history = []"
   ]
  },
  {
   "cell_type": "code",
   "execution_count": null,
   "id": "6pxc7gVOXXJV",
   "metadata": {
    "colab": {
     "base_uri": "https://localhost:8080/"
    },
    "executionInfo": {
     "elapsed": 684548,
     "status": "ok",
     "timestamp": 1621335328115,
     "user": {
      "displayName": "Javier Gamazo Tejero",
      "photoUrl": "",
      "userId": "04168543225743776047"
     },
     "user_tz": -120
    },
    "id": "6pxc7gVOXXJV",
    "outputId": "03332d8c-a153-479c-e4d9-d642bffd8646"
   },
   "outputs": [
    {
     "name": "stdout",
     "output_type": "stream",
     "text": [
      "Epoch: 0. Loss: 0.0026099744718521833\n",
      "[-0.54483694 -0.450928    0.6316081 ] [-0.52307534 -0.5470368   0.6533295 ]\n",
      "Epoch: 500. Loss: 0.002454501809552312\n",
      "[-0.16613536  0.7168212  -0.48061556] [-0.1913549  0.7369966 -0.6513281]\n",
      "Epoch: 1000. Loss: 0.002320326864719391\n",
      "[ 0.28074166 -0.5798911  -0.6983054 ] [ 0.31694487 -0.604796   -0.7234049 ]\n",
      "Epoch: 1500. Loss: 0.0021373755298554897\n",
      "[ 0.00872508 -0.97128135  0.28719175] [-5.7892432e-04 -9.4649714e-01  3.1966606e-01]\n"
     ]
    }
   ],
   "source": [
    "for i in range(EPOCHS):\n",
    "    rays_o = random_on_unit_sphere((N_rays, 3))\n",
    "    rays_d = -1 * torch.rand((N_rays, 3)) + 1 # This is distributed -1 to 1\n",
    "    rays_d = unit_vector(rays_d)\n",
    "    z_vals = torch.rand((N_rays, N_samples, 1))\n",
    "\n",
    "    target = rays_o[..., None, :] + rays_d[..., None, :] * z_vals[..., :]  # [N_rays, N_samples, 3]\n",
    "    target = target.to(device)\n",
    "    \n",
    "    input_batch = torch.cat((rays_o, rays_d), dim=-1).unsqueeze(1)\n",
    "    input_batch = input_batch.expand(N_rays, N_samples, 6)\n",
    "    #input_batch = torch.cat((input_batch, z_vals.unsqueeze(-1)), dim=-1)\n",
    "    z_vals = z_vals.to(device)\n",
    "    input_batch = input_batch.to(device)\n",
    "    \n",
    "    output = model(input_batch, z_vals)\n",
    "    \n",
    "    loss = criterion(output, target)\n",
    "    \n",
    "    opt.zero_grad()\n",
    "    loss.backward()\n",
    "    opt.step()\n",
    "    if i % 500 == 0:\n",
    "        #scheduler.step()\n",
    "        print(f'Epoch: {i}. Loss: {loss.item()}')\n",
    "        loss_history.append(loss.item())\n",
    "        print(output[1,0].detach().cpu().numpy(), target[1,0].detach().cpu().numpy())\n"
   ]
  },
  {
   "cell_type": "code",
   "execution_count": null,
   "id": "uFt_jjIoXXJV",
   "metadata": {
    "colab": {
     "base_uri": "https://localhost:8080/"
    },
    "executionInfo": {
     "elapsed": 713,
     "status": "ok",
     "timestamp": 1621335464477,
     "user": {
      "displayName": "Javier Gamazo Tejero",
      "photoUrl": "",
      "userId": "04168543225743776047"
     },
     "user_tz": -120
    },
    "id": "uFt_jjIoXXJV",
    "outputId": "95c80013-65d1-42f4-f173-9510b2274df8"
   },
   "outputs": [],
   "source": [
    "output[2,0]"
   ]
  },
  {
   "cell_type": "code",
   "execution_count": 40,
   "id": "1kwg-8ZjXXJW",
   "metadata": {
    "colab": {
     "base_uri": "https://localhost:8080/"
    },
    "executionInfo": {
     "elapsed": 951,
     "status": "ok",
     "timestamp": 1621335467814,
     "user": {
      "displayName": "Javier Gamazo Tejero",
      "photoUrl": "",
      "userId": "04168543225743776047"
     },
     "user_tz": -120
    },
    "id": "1kwg-8ZjXXJW",
    "outputId": "a081399e-9af7-44d4-c982-889b1fbc2159"
   },
   "outputs": [
    {
     "data": {
      "text/plain": [
       "tensor([ 0.7021, -0.7014,  0.1878])"
      ]
     },
     "execution_count": 40,
     "metadata": {},
     "output_type": "execute_result"
    }
   ],
   "source": [
    "target[2,0]"
   ]
  },
  {
   "cell_type": "code",
   "execution_count": 17,
   "id": "J_phAcI1XXJX",
   "metadata": {
    "executionInfo": {
     "elapsed": 1266,
     "status": "ok",
     "timestamp": 1621335496793,
     "user": {
      "displayName": "Javier Gamazo Tejero",
      "photoUrl": "",
      "userId": "04168543225743776047"
     },
     "user_tz": -120
    },
    "id": "J_phAcI1XXJX"
   },
   "outputs": [],
   "source": [
    "torch.save(model.state_dict(), './straight_model.pth')"
   ]
  },
  {
   "cell_type": "code",
   "execution_count": null,
   "id": "vwSIO8zVIFMs",
   "metadata": {
    "id": "vwSIO8zVIFMs"
   },
   "outputs": [],
   "source": []
  }
 ],
 "metadata": {
  "accelerator": "GPU",
  "colab": {
   "name": "Untitled.ipynb",
   "provenance": []
  },
  "kernelspec": {
   "display_name": "Python 3",
   "language": "python",
   "name": "python3"
  },
  "language_info": {
   "codemirror_mode": {
    "name": "ipython",
    "version": 3
   },
   "file_extension": ".py",
   "mimetype": "text/x-python",
   "name": "python",
   "nbconvert_exporter": "python",
   "pygments_lexer": "ipython3",
   "version": "3.8.8"
  }
 },
 "nbformat": 4,
 "nbformat_minor": 5
}
