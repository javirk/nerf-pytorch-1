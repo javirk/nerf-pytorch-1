{
 "cells": [
  {
   "cell_type": "code",
   "execution_count": 1,
   "id": "S-K6BjmeXs0D",
   "metadata": {
    "colab": {
     "base_uri": "https://localhost:8080/"
    },
    "executionInfo": {
     "elapsed": 3791,
     "status": "ok",
     "timestamp": 1621334647317,
     "user": {
      "displayName": "Javier Gamazo Tejero",
      "photoUrl": "",
      "userId": "04168543225743776047"
     },
     "user_tz": -120
    },
    "id": "S-K6BjmeXs0D",
    "outputId": "f93711df-91eb-40f5-edad-369f0843bb70"
   },
   "outputs": [
    {
     "name": "stdout",
     "output_type": "stream",
     "text": [
      "Requirement already satisfied: einops in /usr/local/lib/python3.7/dist-packages (0.3.0)\n"
     ]
    }
   ],
   "source": [
    "!pip install einops"
   ]
  },
  {
   "cell_type": "code",
   "execution_count": 2,
   "id": "_t-bACpkXXJS",
   "metadata": {
    "executionInfo": {
     "elapsed": 4413,
     "status": "ok",
     "timestamp": 1621334647949,
     "user": {
      "displayName": "Javier Gamazo Tejero",
      "photoUrl": "",
      "userId": "04168543225743776047"
     },
     "user_tz": -120
    },
    "id": "_t-bACpkXXJS"
   },
   "outputs": [],
   "source": [
    "import torch\n",
    "import torch.nn as nn\n",
    "from einops import rearrange"
   ]
  },
  {
   "cell_type": "code",
   "execution_count": 3,
   "id": "jk4IHgA8Xl9y",
   "metadata": {
    "executionInfo": {
     "elapsed": 4409,
     "status": "ok",
     "timestamp": 1621334647950,
     "user": {
      "displayName": "Javier Gamazo Tejero",
      "photoUrl": "",
      "userId": "04168543225743776047"
     },
     "user_tz": -120
    },
    "id": "jk4IHgA8Xl9y"
   },
   "outputs": [],
   "source": [
    "def unit_vector(a, dim=None):\n",
    "    '''\n",
    "    Returns the unit vector with the direction of a\n",
    "    :param dim:\n",
    "    :param a:\n",
    "    :return:\n",
    "    '''\n",
    "    return a / a.norm(dim=dim).unsqueeze(-1)\n",
    "\n",
    "def random_on_unit_sphere(size, device='cpu'):\n",
    "    # We use the method in https://stats.stackexchange.com/questions/7977/how-to-generate-uniformly-distributed-points-on-the-surface-of-the-3-d-unit-sphe\n",
    "    # to produce vectors on the surface of a unit sphere\n",
    "\n",
    "    x = torch.randn(size)\n",
    "    l = torch.sqrt(torch.sum(torch.pow(x, 2), dim=-1)).unsqueeze(1)\n",
    "    x = (x / l).to(device)\n",
    "\n",
    "    return x"
   ]
  },
  {
   "cell_type": "code",
   "execution_count": 4,
   "id": "8oKqlWcLXXJT",
   "metadata": {
    "colab": {
     "base_uri": "https://localhost:8080/"
    },
    "executionInfo": {
     "elapsed": 4404,
     "status": "ok",
     "timestamp": 1621334647950,
     "user": {
      "displayName": "Javier Gamazo Tejero",
      "photoUrl": "",
      "userId": "04168543225743776047"
     },
     "user_tz": -120
    },
    "id": "8oKqlWcLXXJT",
    "outputId": "9b04a08a-a610-4731-ec42-f1ab245e6812"
   },
   "outputs": [
    {
     "name": "stdout",
     "output_type": "stream",
     "text": [
      "Batch_size: 65536\n"
     ]
    }
   ],
   "source": [
    "N_samples = 64\n",
    "near = 2.\n",
    "far = 6.\n",
    "N_rays = 1024\n",
    "EPOCHS = 50000\n",
    "LR = 0.01\n",
    "print(f'Batch_size: {N_rays * N_samples}')"
   ]
  },
  {
   "cell_type": "code",
   "execution_count": 5,
   "id": "tioFHj7FXXJU",
   "metadata": {
    "executionInfo": {
     "elapsed": 4401,
     "status": "ok",
     "timestamp": 1621334647951,
     "user": {
      "displayName": "Javier Gamazo Tejero",
      "photoUrl": "",
      "userId": "04168543225743776047"
     },
     "user_tz": -120
    },
    "id": "tioFHj7FXXJU"
   },
   "outputs": [],
   "source": [
    "device = torch.device('cuda')"
   ]
  },
  {
   "cell_type": "code",
   "execution_count": 6,
   "id": "JaQvNfKSXXJU",
   "metadata": {
    "executionInfo": {
     "elapsed": 4398,
     "status": "ok",
     "timestamp": 1621334647952,
     "user": {
      "displayName": "Javier Gamazo Tejero",
      "photoUrl": "",
      "userId": "04168543225743776047"
     },
     "user_tz": -120
    },
    "id": "JaQvNfKSXXJU"
   },
   "outputs": [],
   "source": [
    "class CurveModel(nn.Module):\n",
    "    def __init__(self):\n",
    "        super().__init__()\n",
    "        self.fc1 = nn.Linear(7, 128)\n",
    "        self.relu = nn.LeakyReLU()\n",
    "        self.fc2 = nn.Linear(128, 128)\n",
    "        self.fc3 = nn.Linear(128, 3)\n",
    "\n",
    "    def forward(self, x):\n",
    "        x = self.relu(self.fc1(x))\n",
    "        x = self.relu(self.fc2(x))\n",
    "        x = self.fc3(x)\n",
    "        return x"
   ]
  },
  {
   "cell_type": "code",
   "execution_count": 7,
   "id": "6-bDEOYrXXJV",
   "metadata": {
    "colab": {
     "base_uri": "https://localhost:8080/"
    },
    "executionInfo": {
     "elapsed": 7349,
     "status": "ok",
     "timestamp": 1621334650907,
     "user": {
      "displayName": "Javier Gamazo Tejero",
      "photoUrl": "",
      "userId": "04168543225743776047"
     },
     "user_tz": -120
    },
    "id": "6-bDEOYrXXJV",
    "outputId": "90306e39-5d46-4480-d172-460ddd17b412"
   },
   "outputs": [
    {
     "data": {
      "text/plain": [
       "CurveModel(\n",
       "  (fc1): Linear(in_features=7, out_features=128, bias=True)\n",
       "  (relu): LeakyReLU(negative_slope=0.01)\n",
       "  (fc2): Linear(in_features=128, out_features=128, bias=True)\n",
       "  (fc3): Linear(in_features=128, out_features=3, bias=True)\n",
       ")"
      ]
     },
     "execution_count": 7,
     "metadata": {
      "tags": []
     },
     "output_type": "execute_result"
    }
   ],
   "source": [
    "model = CurveModel()\n",
    "model.train()\n",
    "model.to(device)"
   ]
  },
  {
   "cell_type": "code",
   "execution_count": 8,
   "id": "Gi1Yelh2XXJV",
   "metadata": {
    "executionInfo": {
     "elapsed": 7345,
     "status": "ok",
     "timestamp": 1621334650907,
     "user": {
      "displayName": "Javier Gamazo Tejero",
      "photoUrl": "",
      "userId": "04168543225743776047"
     },
     "user_tz": -120
    },
    "id": "Gi1Yelh2XXJV"
   },
   "outputs": [],
   "source": [
    "opt = torch.optim.SGD(model.parameters(), lr=LR)\n",
    "criterion = nn.MSELoss()\n",
    "lmbda = lambda epoch: 0.98\n",
    "scheduler = torch.optim.lr_scheduler.MultiplicativeLR(opt, lr_lambda=lmbda)"
   ]
  },
  {
   "cell_type": "code",
   "execution_count": 9,
   "id": "hpKDiS3tEfaW",
   "metadata": {
    "executionInfo": {
     "elapsed": 7343,
     "status": "ok",
     "timestamp": 1621334650908,
     "user": {
      "displayName": "Javier Gamazo Tejero",
      "photoUrl": "",
      "userId": "04168543225743776047"
     },
     "user_tz": -120
    },
    "id": "hpKDiS3tEfaW"
   },
   "outputs": [],
   "source": [
    "loss_history = []"
   ]
  },
  {
   "cell_type": "code",
   "execution_count": 10,
   "id": "6pxc7gVOXXJV",
   "metadata": {
    "colab": {
     "base_uri": "https://localhost:8080/"
    },
    "executionInfo": {
     "elapsed": 684548,
     "status": "ok",
     "timestamp": 1621335328115,
     "user": {
      "displayName": "Javier Gamazo Tejero",
      "photoUrl": "",
      "userId": "04168543225743776047"
     },
     "user_tz": -120
    },
    "id": "6pxc7gVOXXJV",
    "outputId": "03332d8c-a153-479c-e4d9-d642bffd8646"
   },
   "outputs": [
    {
     "name": "stdout",
     "output_type": "stream",
     "text": [
      "Epoch: 0. Loss: 5.369784355163574\n",
      "Epoch: 500. Loss: 0.011314112693071365\n",
      "Epoch: 1000. Loss: 0.005781370215117931\n",
      "Epoch: 1500. Loss: 0.004164324142038822\n",
      "Epoch: 2000. Loss: 0.003451303346082568\n",
      "Epoch: 2500. Loss: 0.003086695447564125\n",
      "Epoch: 3000. Loss: 0.002840508706867695\n",
      "Epoch: 3500. Loss: 0.002643626183271408\n",
      "Epoch: 4000. Loss: 0.002531772945076227\n",
      "Epoch: 4500. Loss: 0.0025178538635373116\n",
      "Epoch: 5000. Loss: 0.002326932270079851\n",
      "Epoch: 5500. Loss: 0.00232268706895411\n",
      "Epoch: 6000. Loss: 0.0021695788018405437\n",
      "Epoch: 6500. Loss: 0.0022157086059451103\n",
      "Epoch: 7000. Loss: 0.002162887481972575\n",
      "Epoch: 7500. Loss: 0.002142961136996746\n",
      "Epoch: 8000. Loss: 0.0021078824065625668\n",
      "Epoch: 8500. Loss: 0.0020528368186205626\n",
      "Epoch: 9000. Loss: 0.0020586387254297733\n",
      "Epoch: 9500. Loss: 0.002013945020735264\n",
      "Epoch: 10000. Loss: 0.0020280135795474052\n",
      "Epoch: 10500. Loss: 0.0019237319938838482\n",
      "Epoch: 11000. Loss: 0.0019508841214701533\n",
      "Epoch: 11500. Loss: 0.0019506517564877868\n",
      "Epoch: 12000. Loss: 0.0019108103588223457\n",
      "Epoch: 12500. Loss: 0.0019115334143862128\n",
      "Epoch: 13000. Loss: 0.0018332225736230612\n",
      "Epoch: 13500. Loss: 0.0019048461690545082\n",
      "Epoch: 14000. Loss: 0.001865997677668929\n",
      "Epoch: 14500. Loss: 0.0018154585268348455\n",
      "Epoch: 15000. Loss: 0.0018025869503617287\n",
      "Epoch: 15500. Loss: 0.0017603365704417229\n",
      "Epoch: 16000. Loss: 0.001792181166820228\n",
      "Epoch: 16500. Loss: 0.0017994625959545374\n",
      "Epoch: 17000. Loss: 0.0017474595224484801\n",
      "Epoch: 17500. Loss: 0.0017335278680548072\n",
      "Epoch: 18000. Loss: 0.0017321417108178139\n",
      "Epoch: 18500. Loss: 0.0017333158757537603\n",
      "Epoch: 19000. Loss: 0.001683730399236083\n",
      "Epoch: 19500. Loss: 0.001741676009260118\n",
      "Epoch: 20000. Loss: 0.0017459734808653593\n",
      "Epoch: 20500. Loss: 0.0016687088645994663\n",
      "Epoch: 21000. Loss: 0.0017123138532042503\n",
      "Epoch: 21500. Loss: 0.001664998009800911\n",
      "Epoch: 22000. Loss: 0.0016776968259364367\n",
      "Epoch: 22500. Loss: 0.0016224690480157733\n",
      "Epoch: 23000. Loss: 0.0016444375505670905\n",
      "Epoch: 23500. Loss: 0.0017203314928337932\n",
      "Epoch: 24000. Loss: 0.0016519722994416952\n",
      "Epoch: 24500. Loss: 0.001573097426444292\n",
      "Epoch: 25000. Loss: 0.0016030994011089206\n",
      "Epoch: 25500. Loss: 0.0016538454219698906\n",
      "Epoch: 26000. Loss: 0.0015821410343050957\n",
      "Epoch: 26500. Loss: 0.0016204705461859703\n",
      "Epoch: 27000. Loss: 0.0015940567245706916\n",
      "Epoch: 27500. Loss: 0.0016151857562363148\n",
      "Epoch: 28000. Loss: 0.001590457046404481\n",
      "Epoch: 28500. Loss: 0.0016340604051947594\n",
      "Epoch: 29000. Loss: 0.0015680899377912283\n",
      "Epoch: 29500. Loss: 0.001566437422297895\n",
      "Epoch: 30000. Loss: 0.001633562846109271\n",
      "Epoch: 30500. Loss: 0.0016299983253702521\n",
      "Epoch: 31000. Loss: 0.0015748057048767805\n",
      "Epoch: 31500. Loss: 0.0016001894837245345\n",
      "Epoch: 32000. Loss: 0.0015128356171771884\n",
      "Epoch: 32500. Loss: 0.0015686535043641925\n",
      "Epoch: 33000. Loss: 0.0015202139038592577\n",
      "Epoch: 33500. Loss: 0.0015718701761215925\n",
      "Epoch: 34000. Loss: 0.0015602502971887589\n",
      "Epoch: 34500. Loss: 0.0015428634360432625\n",
      "Epoch: 35000. Loss: 0.0015556712169200182\n",
      "Epoch: 35500. Loss: 0.0015342992264777422\n",
      "Epoch: 36000. Loss: 0.0015581869520246983\n",
      "Epoch: 36500. Loss: 0.001514477888122201\n",
      "Epoch: 37000. Loss: 0.0015698715578764677\n",
      "Epoch: 37500. Loss: 0.0015322783729061484\n",
      "Epoch: 38000. Loss: 0.0015623214421793818\n",
      "Epoch: 38500. Loss: 0.001514560543000698\n",
      "Epoch: 39000. Loss: 0.001525959698483348\n",
      "Epoch: 39500. Loss: 0.0015049254288896918\n",
      "Epoch: 40000. Loss: 0.0015418132534250617\n",
      "Epoch: 40500. Loss: 0.0014710135292261839\n",
      "Epoch: 41000. Loss: 0.0015451782383024693\n",
      "Epoch: 41500. Loss: 0.0015112017281353474\n",
      "Epoch: 42000. Loss: 0.001494919415563345\n",
      "Epoch: 42500. Loss: 0.0015314295887947083\n",
      "Epoch: 43000. Loss: 0.0014816287439316511\n",
      "Epoch: 43500. Loss: 0.0015161074697971344\n",
      "Epoch: 44000. Loss: 0.0015009855851531029\n",
      "Epoch: 44500. Loss: 0.0014756172895431519\n",
      "Epoch: 45000. Loss: 0.001494768774136901\n",
      "Epoch: 45500. Loss: 0.001484510488808155\n",
      "Epoch: 46000. Loss: 0.0014920405810698867\n",
      "Epoch: 46500. Loss: 0.001485500019043684\n",
      "Epoch: 47000. Loss: 0.0014614453539252281\n",
      "Epoch: 47500. Loss: 0.0014778519980609417\n",
      "Epoch: 48000. Loss: 0.001466293353587389\n",
      "Epoch: 48500. Loss: 0.0014801125507801771\n",
      "Epoch: 49000. Loss: 0.001449234550818801\n",
      "Epoch: 49500. Loss: 0.0014815069735050201\n"
     ]
    }
   ],
   "source": [
    "for i in range(EPOCHS):\n",
    "    rays_o = random_on_unit_sphere((N_rays, 3)) * 4\n",
    "    rays_d = -1 * torch.rand((N_rays, 3)) + 1 # This is distributed -1 to 1\n",
    "    rays_d = unit_vector(rays_d)\n",
    "\n",
    "    t_vals = torch.linspace(0., 1., steps=N_samples)\n",
    "    z_vals = near * (1. - t_vals) + far * t_vals\n",
    "    z_vals = z_vals.expand([N_rays, N_samples])\n",
    "    target = rays_o[..., None, :] + rays_d[..., None, :] * z_vals[..., :, None]  # [N_rays, N_samples, 3]\n",
    "    target = target.to(device)\n",
    "    \n",
    "    input_batch = torch.cat((rays_o, rays_d), dim=-1).unsqueeze(1)\n",
    "    input_batch = input_batch.expand(N_rays, N_samples, 6)\n",
    "    input_batch = torch.cat((input_batch, z_vals.unsqueeze(-1)), dim=-1)\n",
    "    input_batch = input_batch.to(device)\n",
    "    \n",
    "    output = model(input_batch)\n",
    "    \n",
    "    loss = criterion(output, target)\n",
    "    \n",
    "    opt.zero_grad()\n",
    "    loss.backward()\n",
    "    opt.step()\n",
    "    if i % 500 == 0:\n",
    "        #scheduler.step()\n",
    "        print(f'Epoch: {i}. Loss: {loss.item()}')\n",
    "        loss_history.append(loss.item())\n"
   ]
  },
  {
   "cell_type": "code",
   "execution_count": 15,
   "id": "uFt_jjIoXXJV",
   "metadata": {
    "colab": {
     "base_uri": "https://localhost:8080/"
    },
    "executionInfo": {
     "elapsed": 713,
     "status": "ok",
     "timestamp": 1621335464477,
     "user": {
      "displayName": "Javier Gamazo Tejero",
      "photoUrl": "",
      "userId": "04168543225743776047"
     },
     "user_tz": -120
    },
    "id": "uFt_jjIoXXJV",
    "outputId": "95c80013-65d1-42f4-f173-9510b2274df8"
   },
   "outputs": [
    {
     "data": {
      "text/plain": [
       "tensor([ 1.5020, -2.7223,  2.5142], device='cuda:0', grad_fn=<SelectBackward>)"
      ]
     },
     "execution_count": 15,
     "metadata": {
      "tags": []
     },
     "output_type": "execute_result"
    }
   ],
   "source": [
    "output[1,0]"
   ]
  },
  {
   "cell_type": "code",
   "execution_count": 16,
   "id": "1kwg-8ZjXXJW",
   "metadata": {
    "colab": {
     "base_uri": "https://localhost:8080/"
    },
    "executionInfo": {
     "elapsed": 951,
     "status": "ok",
     "timestamp": 1621335467814,
     "user": {
      "displayName": "Javier Gamazo Tejero",
      "photoUrl": "",
      "userId": "04168543225743776047"
     },
     "user_tz": -120
    },
    "id": "1kwg-8ZjXXJW",
    "outputId": "a081399e-9af7-44d4-c982-889b1fbc2159"
   },
   "outputs": [
    {
     "data": {
      "text/plain": [
       "tensor([ 1.4858, -2.7177,  2.5315], device='cuda:0')"
      ]
     },
     "execution_count": 16,
     "metadata": {
      "tags": []
     },
     "output_type": "execute_result"
    }
   ],
   "source": [
    "target[1,0]"
   ]
  },
  {
   "cell_type": "code",
   "execution_count": 17,
   "id": "J_phAcI1XXJX",
   "metadata": {
    "executionInfo": {
     "elapsed": 1266,
     "status": "ok",
     "timestamp": 1621335496793,
     "user": {
      "displayName": "Javier Gamazo Tejero",
      "photoUrl": "",
      "userId": "04168543225743776047"
     },
     "user_tz": -120
    },
    "id": "J_phAcI1XXJX"
   },
   "outputs": [],
   "source": [
    "torch.save(model.state_dict(), './straight_model.pth')"
   ]
  },
  {
   "cell_type": "code",
   "execution_count": null,
   "id": "vwSIO8zVIFMs",
   "metadata": {
    "id": "vwSIO8zVIFMs"
   },
   "outputs": [],
   "source": []
  }
 ],
 "metadata": {
  "accelerator": "GPU",
  "colab": {
   "name": "Untitled.ipynb",
   "provenance": []
  },
  "kernelspec": {
   "display_name": "Python 3",
   "language": "python",
   "name": "python3"
  },
  "language_info": {
   "codemirror_mode": {
    "name": "ipython",
    "version": 3
   },
   "file_extension": ".py",
   "mimetype": "text/x-python",
   "name": "python",
   "nbconvert_exporter": "python",
   "pygments_lexer": "ipython3",
   "version": "3.8.8"
  }
 },
 "nbformat": 4,
 "nbformat_minor": 5
}
